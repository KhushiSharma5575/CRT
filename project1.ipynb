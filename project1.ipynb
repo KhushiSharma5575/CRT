{
 "cells": [
  {
   "cell_type": "code",
   "execution_count": 5,
   "metadata": {},
   "outputs": [
    {
     "ename": "ValueError",
     "evalue": "too many values to unpack (expected 4)",
     "output_type": "error",
     "traceback": [
      "\u001b[1;31m---------------------------------------------------------------------------\u001b[0m",
      "\u001b[1;31mValueError\u001b[0m                                Traceback (most recent call last)",
      "Cell \u001b[1;32mIn[5], line 22\u001b[0m\n\u001b[0;32m     20\u001b[0m img_orig\u001b[39m=\u001b[39mimg\u001b[39m.\u001b[39mcopy()\n\u001b[0;32m     21\u001b[0m \u001b[39mif\u001b[39;00m \u001b[39mlen\u001b[39m(rp)\u001b[39m>\u001b[39m\u001b[39m0\u001b[39m:\n\u001b[1;32m---> 22\u001b[0m     (y1,x1,y2,x2)\u001b[39m=\u001b[39mrp[\u001b[39m0\u001b[39m]\n\u001b[0;32m     23\u001b[0m     cv2\u001b[39m.\u001b[39mrectangle(\n\u001b[0;32m     24\u001b[0m         img_orig,\n\u001b[0;32m     25\u001b[0m         pt1\u001b[39m=\u001b[39m(x1,y1),pt2\u001b[39m=\u001b[39m(x2,y2),\n\u001b[0;32m     26\u001b[0m         color\u001b[39m=\u001b[39m(\u001b[39m255\u001b[39m,\u001b[39m255\u001b[39m,\u001b[39m0\u001b[39m),\n\u001b[0;32m     27\u001b[0m         thickness\u001b[39m=\u001b[39m\u001b[39m5\u001b[39m\n\u001b[0;32m     28\u001b[0m     )\n\u001b[0;32m     29\u001b[0m cv2\u001b[39m.\u001b[39mimshow(\u001b[39m'\u001b[39m\u001b[39mPreview\u001b[39m\u001b[39m'\u001b[39m,img_orig)\n",
      "\u001b[1;31mValueError\u001b[0m: too many values to unpack (expected 4)"
     ]
    },
    {
     "ename": "",
     "evalue": "",
     "output_type": "error",
     "traceback": [
      "\u001b[1;31mThe Kernel crashed while executing code in the the current cell or a previous cell. Please review the code in the cell(s) to identify a possible cause of the failure. Click <a href='https://aka.ms/vscodeJupyterKernelCrash'>here</a> for more info. View Jupyter <a href='command:jupyter.viewOutput'>log</a> for further details."
     ]
    }
   ],
   "source": [
    "import cv2, plotly, plotly.express as px, skimage\n",
    "vid=cv2.VideoCapture(0)\n",
    "while True:\n",
    "    flag,img=vid.read()\n",
    "    if flag:\n",
    "        gray_img=cv2.cvtColor(img,cv2.COLOR_BGR2GRAY)\n",
    "        blue_img=cv2.subtract(img[:,:,-3],gray_img)\n",
    "\n",
    "        th, blue_binary = cv2.threshold(blue_img,55,255,cv2.THRESH_BINARY)\n",
    "        \n",
    "        blue_binary2 = skimage.morphology.remove_small_objects(blue_binary.astype(bool), 150).astype('uint8')\n",
    "         \n",
    "        strel=cv2.getStructuringElement(cv2.MORPH_ELLIPSE, (10,10))\n",
    "        blue_binary3 = cv2.dilate(blue_binary2.astype('uint8'),strel,iterations=1)\n",
    "        blue_binary4 = skimage.morphology.remove_small_holes(blue_binary3.astype(bool), 5000)\n",
    "        #blue_binary5 = skimage.morphology.remove_small_holes(blue_binary4.astype(bool), 5000)\n",
    "\n",
    "        labels = skimage.measure.label (blue_binary4)\n",
    "        rp = skimage.measure.regionprops(labels, blue_binary4)\n",
    "        img_orig=img.copy()\n",
    "        if len(rp)>0:\n",
    "            (y1,x1,y2,x2)=rp[0].bbox\n",
    "            cv2.rectangle(\n",
    "                img_orig,\n",
    "                pt1=(x1,y1),pt2=(x2,y2),\n",
    "                color=(255,255,0),\n",
    "                thickness=5\n",
    "            )\n",
    "        cv2.imshow('Preview',img_orig)\n",
    "        key=cv2.waitKey(1)\n",
    "        if key==ord('q'):\n",
    "            break\n",
    "        \n",
    "cv2.destroyAllWindows()"
   ]
  }
 ],
 "metadata": {
  "kernelspec": {
   "display_name": "Python 3",
   "language": "python",
   "name": "python3"
  },
  "language_info": {
   "codemirror_mode": {
    "name": "ipython",
    "version": 3
   },
   "file_extension": ".py",
   "mimetype": "text/x-python",
   "name": "python",
   "nbconvert_exporter": "python",
   "pygments_lexer": "ipython3",
   "version": "3.11.2"
  },
  "orig_nbformat": 4
 },
 "nbformat": 4,
 "nbformat_minor": 2
}
