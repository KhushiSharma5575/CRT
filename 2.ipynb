{
 "cells": [
  {
   "cell_type": "code",
   "execution_count": 1,
   "metadata": {},
   "outputs": [],
   "source": [
    "import numpy as np\n",
    "import cv2\n",
    "from time import sleep\n",
    "fd= cv2.CascadeClassifier(cv2.data.haarcascades + 'haarcascade_frontalface_default.xml')\n",
    "vid= cv2.VideoCapture(0)\n",
    "\n",
    "while True:\n",
    "    flag , img = vid.read()\n",
    "    if flag:\n",
    "        img_grey = cv2.cvtColor(img, cv2.COLOR_BGR2GRAY)\n",
    "        \n",
    "        x1,y1,w,h=(200,400,200,200)\n",
    "        \n",
    "        faces = fd.detectMultiScale(img_grey,1.1,5)\n",
    "        for x1,y1,w,h in faces:\n",
    "            cv2.rectangle(\n",
    "                img,\n",
    "                pt1=(x1,y1), pt2=(x1+w, y1+h),\n",
    "                color=(0,0,255),thickness=10\n",
    "            )\n",
    "        \n",
    "        cv2.imshow('Preview' ,img)\n",
    "        key = cv2.waitKey(1)\n",
    "        if key == ord('q'):\n",
    "            break\n",
    "    else:\n",
    "        break\n",
    "    sleep(0.1)\n",
    "vid.release()\n",
    "cv2.destroyAllWindows() "
   ]
  }
 ],
 "metadata": {
  "kernelspec": {
   "display_name": "Python 3",
   "language": "python",
   "name": "python3"
  },
  "language_info": {
   "codemirror_mode": {
    "name": "ipython",
    "version": 3
   },
   "file_extension": ".py",
   "mimetype": "text/x-python",
   "name": "python",
   "nbconvert_exporter": "python",
   "pygments_lexer": "ipython3",
   "version": "3.11.2"
  },
  "orig_nbformat": 4
 },
 "nbformat": 4,
 "nbformat_minor": 2
}
